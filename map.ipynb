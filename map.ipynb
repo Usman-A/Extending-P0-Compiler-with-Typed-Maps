{
 "cells": [
  {
   "cell_type": "code",
   "execution_count": 1,
   "metadata": {},
   "outputs": [],
   "source": [
    "def runpywasm(wasmfile):\n",
    "    import pywasm\n",
    "    def write(s, i): print(i)\n",
    "    def writeln(s): print('\\n')\n",
    "    def read(s): return int(input())\n",
    "    vm = pywasm.load(wasmfile, {'P0lib': {'write': write, 'writeln': writeln, 'read': read}})"
   ]
  },
  {
   "cell_type": "markdown",
   "metadata": {},
   "source": [
    "<b>Import read and write libraries to file</b>"
   ]
  },
  {
   "cell_type": "code",
   "execution_count": 2,
   "metadata": {},
   "outputs": [
    {
     "name": "stdout",
     "output_type": "stream",
     "text": [
      "Overwriting map.wat\n"
     ]
    }
   ],
   "source": [
    "%%writefile map.wat\n",
    "(module\n",
    "    (import \"P0lib\" \"write\" (func $write (param i32)))\n",
    "    (import \"P0lib\" \"read\" (func $read (result i32)))\n",
    "    (memory 1)"
   ]
  },
  {
   "cell_type": "markdown",
   "metadata": {},
   "source": [
    "<b>Function used to allocate a new array of a size.</b><br>\n",
    "<i>Input: 32 bit integer size of array to allocate.</i><br>\n",
    "<i>Output: 32 bit integer address of array.</i>"
   ]
  },
  {
   "cell_type": "code",
   "execution_count": 3,
   "metadata": {},
   "outputs": [
    {
     "name": "stdout",
     "output_type": "stream",
     "text": [
      "Appending to map.wat\n"
     ]
    }
   ],
   "source": [
    "%%writefile -a map.wat\n",
    "    ;; create an array\n",
    "    (func $arr (param $len i32) (result i32)\n",
    "        (local $offset i32)                              ;; offset\n",
    "        (set_local $offset (i32.load (i32.const 0)))     ;; load offset from the first i32\n",
    "\n",
    "        (i32.store (get_local $offset)                   ;; load the length\n",
    "                   (get_local $len)\n",
    "        ) \n",
    "\n",
    "        (i32.store (i32.const 0)                         ;; store offset of available space                   \n",
    "                   (i32.add \n",
    "                       (i32.add\n",
    "                           (get_local $offset)\n",
    "                           (i32.mul \n",
    "                               (get_local $len) \n",
    "                               (i32.const 4)\n",
    "                           )\n",
    "                       )\n",
    "                       (i32.const 4)                     ;; the first i32 is the length\n",
    "                   )\n",
    "        )\n",
    "        (get_local $offset)                              ;; (return) the beginning offset of the array.\n",
    "    )"
   ]
  },
  {
   "cell_type": "markdown",
   "metadata": {},
   "source": [
    "<b>Function used to get size of array.</b><br>\n",
    "<i>Input: 32 bit integer address of array.</i><br>\n",
    "<i>Output: 32 bit integer size of array.</i>"
   ]
  },
  {
   "cell_type": "code",
   "execution_count": 4,
   "metadata": {},
   "outputs": [
    {
     "name": "stdout",
     "output_type": "stream",
     "text": [
      "Appending to map.wat\n"
     ]
    }
   ],
   "source": [
    "%%writefile -a map.wat\n",
    "    ;; return the array size\n",
    "    (func $len_array (param $arr i32) (result i32)\n",
    "        (i32.load (get_local $arr))\n",
    "    )"
   ]
  },
  {
   "cell_type": "markdown",
   "metadata": {},
   "source": [
    "<b>Function used to convert index of array to address offset in array .</b><br>\n",
    "<i>Input: 32 bit integer address of array.</i><br>\n",
    "<i>Input: 32 bit integer index of array.</i><br>\n",
    "<i>Output: 32 bit integer index offset in array.</i>"
   ]
  },
  {
   "cell_type": "code",
   "execution_count": 5,
   "metadata": {},
   "outputs": [
    {
     "name": "stdout",
     "output_type": "stream",
     "text": [
      "Appending to map.wat\n"
     ]
    }
   ],
   "source": [
    "%%writefile -a map.wat\n",
    "    ;; convert an element index to the offset of memory\n",
    "    (func $offset_array (param $arr i32) (param $i i32) (result i32)\n",
    "        (i32.add\n",
    "             (i32.add (get_local $arr) (i32.const 4))    ;; The first i32 is the array length \n",
    "             (i32.mul (i32.const 4) (get_local $i))      ;; one i32 is 4 bytes\n",
    "        )\n",
    "    )"
   ]
  },
  {
   "cell_type": "markdown",
   "metadata": {},
   "source": [
    "<b>Function used to set index of array to a value.</b><br>\n",
    "<i>Input: 32 bit integer address of array.</i><br>\n",
    "<i>Input: 32 bit integer index of array.</i><br>\n",
    "<i>Input: 32 bit integer value to store at index in array.</i>"
   ]
  },
  {
   "cell_type": "code",
   "execution_count": 6,
   "metadata": {},
   "outputs": [
    {
     "name": "stdout",
     "output_type": "stream",
     "text": [
      "Appending to map.wat\n"
     ]
    }
   ],
   "source": [
    "%%writefile -a map.wat\n",
    "    ;; set a value at the index \n",
    "    (func $set_array (param $arr i32) (param $i i32) (param $value i32)\n",
    "        (i32.store \n",
    "            (call $offset_array (get_local $arr) (get_local $i)) \n",
    "            (get_local $value)\n",
    "        )  \n",
    "    )"
   ]
  },
  {
   "cell_type": "markdown",
   "metadata": {},
   "source": [
    "<b>Function used to get value at index in array.</b><br>\n",
    "<i>Input: 32 bit integer address of array.</i><br>\n",
    "<i>Input: 32 bit integer index of array.</i><br>\n",
    "<i>Output: 32 bit integer value of index in array.</i>"
   ]
  },
  {
   "cell_type": "code",
   "execution_count": 7,
   "metadata": {},
   "outputs": [
    {
     "name": "stdout",
     "output_type": "stream",
     "text": [
      "Appending to map.wat\n"
     ]
    }
   ],
   "source": [
    "%%writefile -a map.wat\n",
    "    ;; get a value at the index \n",
    "    (func $get_array (param $arr i32) (param $i i32) (result i32)\n",
    "        (i32.load \n",
    "            (call $offset_array (get_local $arr) (get_local $i)) \n",
    "        )\n",
    "    )"
   ]
  },
  {
   "cell_type": "markdown",
   "metadata": {},
   "source": [
    "<b>Function used to determine mod of 2 integers.</b><br>\n",
    "<i>Input: 32 bit integer numerator.</i><br>\n",
    "<i>Input: 32 bit integer denominator.</i><br>\n",
    "<i>Output: 32 bit integer remainder.</i>"
   ]
  },
  {
   "cell_type": "code",
   "execution_count": 8,
   "metadata": {},
   "outputs": [
    {
     "name": "stdout",
     "output_type": "stream",
     "text": [
      "Appending to map.wat\n"
     ]
    }
   ],
   "source": [
    "%%writefile -a map.wat\n",
    "(func $mod (param $x i32) (param $y i32) (result i32)\n",
    "        (local $q i32)\n",
    "        (local $r i32)\n",
    "        i32.const 0\n",
    "        local.set $q\n",
    "        local.get $x\n",
    "        local.set $r\n",
    "        loop $label0\n",
    "          local.get $r\n",
    "          local.get $y\n",
    "          i32.ge_s\n",
    "          if\n",
    "            local.get $r\n",
    "            local.get $y\n",
    "            i32.sub\n",
    "            local.set $r\n",
    "            local.get $q\n",
    "            i32.const 1\n",
    "            i32.add\n",
    "            local.set $q\n",
    "            br $label0\n",
    "          end\n",
    "        end\n",
    "        local.get $r\n",
    "      )"
   ]
  },
  {
   "cell_type": "markdown",
   "metadata": {},
   "source": [
    "<b>Function used to determine div of 2 integers.</b><br>\n",
    "<i>Input: 32 bit integer numerator.</i><br>\n",
    "<i>Input: 32 bit integer denominator.</i><br>\n",
    "<i>Output: 32 bit integer division.</i>"
   ]
  },
  {
   "cell_type": "code",
   "execution_count": 9,
   "metadata": {},
   "outputs": [
    {
     "name": "stdout",
     "output_type": "stream",
     "text": [
      "Appending to map.wat\n"
     ]
    }
   ],
   "source": [
    "%%writefile -a map.wat\n",
    "     (func $div (param $x i32) (param $y i32) (result i32)\n",
    "        (local $q i32)\n",
    "        (local $r i32)\n",
    "        i32.const 0\n",
    "        local.set $q\n",
    "        local.get $x\n",
    "        local.set $r\n",
    "        loop $label0\n",
    "          local.get $r\n",
    "          local.get $y\n",
    "          i32.ge_s\n",
    "          if\n",
    "            local.get $r\n",
    "            local.get $y\n",
    "            i32.sub\n",
    "            local.set $r\n",
    "            local.get $q\n",
    "            i32.const 1\n",
    "            i32.add\n",
    "            local.set $q\n",
    "            br $label0\n",
    "          end\n",
    "        end\n",
    "        local.get $q\n",
    "      )"
   ]
  },
  {
   "cell_type": "markdown",
   "metadata": {},
   "source": [
    "<b>Function used to determine hash of key for table 1.</b><br>\n",
    "<i>Input: 32 bit integer length of table 1.</i><br>\n",
    "<i>Input: 32 bit integer key.</i><br>\n",
    "<i>Output: 32 bit integer index based on hash value.</i>"
   ]
  },
  {
   "cell_type": "code",
   "execution_count": 10,
   "metadata": {},
   "outputs": [
    {
     "name": "stdout",
     "output_type": "stream",
     "text": [
      "Appending to map.wat\n"
     ]
    }
   ],
   "source": [
    "%%writefile -a map.wat\n",
    "    (func $hash1 (param $len i32) (param $key i32) (result i32)\n",
    "     (call $mod (get_local $key) (get_local $len))\n",
    "    )"
   ]
  },
  {
   "cell_type": "markdown",
   "metadata": {},
   "source": [
    "<b>Function used to determine hash of key for table 2.</b><br>\n",
    "<i>Input: 32 bit integer length of table 2.</i><br>\n",
    "<i>Input: 32 bit integer key.</i><br>\n",
    "<i>Output: 32 bit integer index based on hash value.</i>"
   ]
  },
  {
   "cell_type": "code",
   "execution_count": 11,
   "metadata": {},
   "outputs": [
    {
     "name": "stdout",
     "output_type": "stream",
     "text": [
      "Appending to map.wat\n"
     ]
    }
   ],
   "source": [
    "%%writefile -a map.wat\n",
    "    (func $hash2 (param $len i32) (param $key i32) (result i32)\n",
    "     (call $mod (call $div (i32.add (i32.const 4564)(get_local $key))(get_local $len)) (get_local $len))\n",
    "    )"
   ]
  },
  {
   "cell_type": "markdown",
   "metadata": {},
   "source": [
    "<b>Function used to allocate a new node for key value pair.</b><br>\n",
    "<i>Input: 32 bit integer key.</i><br>\n",
    "<i>Input: 32 bit integer value address.</i><br>\n",
    "<i>Output: 32 bit integer address of node.</i>"
   ]
  },
  {
   "cell_type": "code",
   "execution_count": 12,
   "metadata": {},
   "outputs": [
    {
     "name": "stdout",
     "output_type": "stream",
     "text": [
      "Appending to map.wat\n"
     ]
    }
   ],
   "source": [
    "%%writefile -a map.wat\n",
    "    (func $node (param $key i32) (param $value i32) (result i32)\n",
    "        (local $offset i32)                              ;; offset\n",
    "        (set_local $offset (i32.load (i32.const 0)))     ;; load offset from the first i32\n",
    "\n",
    "        (i32.store (i32.const 0)                         ;; store offset of available space                   \n",
    "                   (i32.add\n",
    "                           (get_local $offset)\n",
    "                           (i32.const 8)\n",
    "                       )  \n",
    "        )\n",
    "        (i32.store (get_local $offset)   ;; store key\n",
    "                   (get_local $key)\n",
    "        ) \n",
    "     \n",
    "        (i32.store (i32.add (get_local $offset) (i32.const 4))    ;; store value\n",
    "                    (get_local $value)\n",
    "        ) \n",
    "        \n",
    "        (get_local $offset)                              ;; (return) the beginning offset of the node.\n",
    "    )"
   ]
  },
  {
   "cell_type": "markdown",
   "metadata": {},
   "source": [
    "<b>Function used to expand map size by 2x.</b><br>\n",
    "<i>Input: 32 bit integer address of map.</i><br>"
   ]
  },
  {
   "cell_type": "code",
   "execution_count": 13,
   "metadata": {},
   "outputs": [
    {
     "name": "stdout",
     "output_type": "stream",
     "text": [
      "Appending to map.wat\n"
     ]
    }
   ],
   "source": [
    "%%writefile -a map.wat\n",
    "    (func $expand_map (param $map i32)\n",
    "        (local $array1_adr i32)\n",
    "        (local $array2_adr i32)\n",
    "        (local $index i32)\n",
    "        (set_local $array1_adr (i32.load (i32.add (get_local $map) (i32.const 4))))\n",
    "        (set_local $array2_adr (i32.load (i32.add (get_local $map) (i32.const 8))))\n",
    "     \n",
    "        (i32.store (i32.add (get_local $map) (i32.const 4))    \n",
    "                   (call $arr (i32.mul (i32.load (get_local $array1_adr)) (i32.const 2))))  ;; new array1 of 2x old size\n",
    "        (i32.store (i32.add (get_local $map) (i32.const 8))    \n",
    "                   (call $arr (i32.mul (i32.load (get_local $array2_adr)) (i32.const 2))))  ;; new array2 of 2x old size\n",
    "        (i32.store (get_local $map) (i32.mul (i32.load(get_local $map)) (i32.const 2)))\n",
    "        (i32.store (i32.add (get_local $map) (i32.const 12)) \n",
    "                    (i32.const 0))\n",
    "        (set_local $index (i32.const 0))\n",
    "        loop $LOOP1\n",
    "            (i32.lt_s (get_local $index) (i32.load (get_local $array1_adr)))   \n",
    "            if\n",
    "                (if (i32.ne (call $get_array (get_local $array1_adr) (get_local $index)) (i32.const 0)) \n",
    "                    (then\n",
    "                        (call $insert_map (get_local $map) (i32.load (call $get_array (get_local $array1_adr) (get_local $index))) \n",
    "                         (i32.load (i32.add (call $get_array (get_local $array1_adr) (get_local $index)) (i32.const 4))))\n",
    "                    )\n",
    "                )\n",
    "                (set_local $index                       \n",
    "                    (i32.add (get_local $index) (i32.const 1)))\n",
    "                br $LOOP1\n",
    "            end\n",
    "        end\n",
    "        (set_local $index (i32.const 0))\n",
    "        loop $LOOP2\n",
    "            (i32.lt_s (get_local $index) (i32.load (get_local $array2_adr)))   \n",
    "            if\n",
    "                (if (i32.ne (call $get_array (get_local $array2_adr) (get_local $index)) (i32.const 0)) \n",
    "                    (then\n",
    "                        (call $insert_map (get_local $map) (i32.load (call $get_array (get_local $array2_adr) (get_local $index))) \n",
    "                         (i32.load (i32.add (call $get_array (get_local $array2_adr) (get_local $index)) (i32.const 4))))\n",
    "                    )\n",
    "                )\n",
    "                (set_local $index                       \n",
    "                    (i32.add (get_local $index) (i32.const 1)))\n",
    "                br $LOOP2\n",
    "            end\n",
    "        end\n",
    "    )"
   ]
  },
  {
   "cell_type": "markdown",
   "metadata": {},
   "source": [
    "<b>Function used to allocate a new map.</b><br>\n",
    "<i>Output: 32 bit integer address of new map.</i>"
   ]
  },
  {
   "cell_type": "code",
   "execution_count": 14,
   "metadata": {},
   "outputs": [
    {
     "name": "stdout",
     "output_type": "stream",
     "text": [
      "Appending to map.wat\n"
     ]
    }
   ],
   "source": [
    "%%writefile -a map.wat\n",
    "    (func $map (result i32)\n",
    "        (local $offset i32)                              ;; offset\n",
    "        (set_local $offset (i32.load (i32.const 0)))     ;; load offset from the first i32\n",
    "\n",
    "        (i32.store (get_local $offset)                   ;; initial map size is 8\n",
    "                   (i32.const 8)\n",
    "        ) \n",
    "\n",
    "        (i32.store (i32.const 0)                         ;; store offset of available space                   \n",
    "                   (i32.add \n",
    "                       (i32.add\n",
    "                           (get_local $offset)\n",
    "                           (i32.const 12)\n",
    "                       )\n",
    "                       (i32.const 4)                     ;; the first i32 is the size\n",
    "                   )\n",
    "        )\n",
    "        (i32.store (i32.add (get_local $offset) (i32.const 4))    ;; Array1\n",
    "                   (call $arr (i32.const 4))\n",
    "        ) \n",
    "     \n",
    "        (i32.store (i32.add (get_local $offset) (i32.const 8))    ;; Array2\n",
    "                    (call $arr (i32.const 4))\n",
    "        ) \n",
    "        (i32.store (i32.add (get_local $offset) (i32.const 12))    ;; number of initial recrods is 0\n",
    "                    (i32.const 0)\n",
    "        )\n",
    "        \n",
    "        (get_local $offset)                              ;; (return) the beginning offset of the map.\n",
    "    )"
   ]
  },
  {
   "cell_type": "markdown",
   "metadata": {},
   "source": [
    "<b>Function used to check if key in map.</b><br>\n",
    "<i>Input: 32 bit integer address of map.</i><br>\n",
    "<i>Input: 32 bit integer key.</i><br>\n",
    "<i>Output: 32 bit integer <1 if key exists otherwise 0>.</i>"
   ]
  },
  {
   "cell_type": "code",
   "execution_count": 15,
   "metadata": {},
   "outputs": [
    {
     "name": "stdout",
     "output_type": "stream",
     "text": [
      "Appending to map.wat\n"
     ]
    }
   ],
   "source": [
    "%%writefile -a map.wat\n",
    "    (func $in_map (param $map i32) (param $key i32) (result i32)\n",
    "       (local $arr1_index i32)\n",
    "       (local $arr2_index i32)\n",
    "       (local $node i32)\n",
    "       (set_local $arr1_index (call $hash1 (call $len_array (i32.load(i32.add (get_local $map) (i32.const 4)))) (get_local $key)))\n",
    "       (set_local $arr2_index (call $hash2 (call $len_array (i32.load(i32.add (get_local $map) (i32.const 8)))) (get_local $key)))\n",
    "       (set_local $node (call $get_array (i32.load(i32.add (get_local $map) (i32.const 4))) (get_local $arr1_index)))\n",
    "       (if (i32.and (i32.ne (get_local $node) (i32.const 0))\n",
    "                    (i32.eq (i32.load (get_local $node))(get_local $key)) ;; check first array\n",
    "           )\n",
    "            (then\n",
    "                (return (i32.const 1))\n",
    "            )\n",
    "       )\n",
    "       (set_local $node (call $get_array (i32.load(i32.add (get_local $map) (i32.const 8))) (get_local $arr2_index)))\n",
    "       (if (i32.and (i32.ne (get_local $node) (i32.const 0))\n",
    "                    (i32.eq (i32.load (get_local $node))(get_local $key)) ;; check second array\n",
    "           )\n",
    "            (then\n",
    "                (return (i32.const 1))\n",
    "            )\n",
    "       )\n",
    "       (i32.const 0)\n",
    "    )"
   ]
  },
  {
   "cell_type": "markdown",
   "metadata": {},
   "source": [
    "<b>Function used to insert key-value pair in map.</b><br>\n",
    "<i>Input: 32 bit integer address of map.</i><br>\n",
    "<i>Input: 32 bit integer key.</i><br>\n",
    "<i>Input: 32 bit integer value address.</i><br>"
   ]
  },
  {
   "cell_type": "code",
   "execution_count": 16,
   "metadata": {},
   "outputs": [
    {
     "name": "stdout",
     "output_type": "stream",
     "text": [
      "Appending to map.wat\n"
     ]
    }
   ],
   "source": [
    "%%writefile -a map.wat\n",
    "    (func $insert_map (param $map i32) (param $key i32) (param $value i32)\n",
    "       (local $arr1_index i32)\n",
    "       (local $arr2_index i32)\n",
    "       (local $map_size i32)\n",
    "       (local $node i32)\n",
    "       (local $existing i32)\n",
    "       (local $table i32)\n",
    "       (local $max_replace i32)\n",
    "       (local $temp i32)\n",
    "       (local $numOfRecords i32)\n",
    "       (if (i32.eq (call $in_map (get_local $map) (get_local $key)) (i32.const 1))\n",
    "           (then \n",
    "            (call $update_key (get_local $map) (get_local $key) (get_local $value))\n",
    "           )\n",
    "        (else \n",
    "       (set_local $numOfRecords (i32.load(i32.add (get_local $map) (i32.const 12))))\n",
    "       (set_local $map_size (call $len_map (get_local $map)))\n",
    "       (if (i32.ge_s \n",
    "                    (get_local $numOfRecords) \n",
    "                    (call $div (get_local $map_size) (i32.const 2)) ;; if insert into table 1\n",
    "                ) \n",
    "                    (then\n",
    "                     (call $expand_map (get_local $map))\n",
    "                    )\n",
    "       )\n",
    "       (set_local $max_replace (i32.const 0))\n",
    "       (set_local $table (i32.const 2))\n",
    "       (set_local $node (call $node (get_local $key) (get_local $value)))\n",
    "       (set_local $arr1_index (call $hash1 (call $len_array (i32.load(i32.add (get_local $map) (i32.const 4)))) (get_local $key)))\n",
    "       (set_local $arr2_index (call $hash2 (call $len_array (i32.load(i32.add (get_local $map) (i32.const 8)))) (get_local $key)))\n",
    "       (set_local $existing (call $get_array (i32.load(i32.add (get_local $map) (i32.const 4))) (get_local $arr1_index))) ;; set existing to node being pushed out\n",
    "\n",
    "       (call $set_array (\n",
    "           i32.load(i32.add (get_local $map) (i32.const 4))) (get_local $arr1_index) (get_local $node)) ;; insert new node into first array\n",
    "       (i32.store (i32.add (get_local $map) (i32.const 12)) \n",
    "                    (i32.add (i32.load(i32.add (get_local $map) (i32.const 12))) (i32.const 1))) ;; numOfRecords + 1\n",
    "       loop $LOOP\n",
    "            (i32.and \n",
    "             (i32.lt_s (get_local $max_replace) (i32.const 5)) ;; if max replacements is under 5\n",
    "             (i32.ne (get_local $existing) (i32.const 0)) ;; if exisitng points to a node (not equal to 0)\n",
    "            )   \n",
    "            if      \n",
    "                (if (i32.eq \n",
    "                    (get_local $table) \n",
    "                    (i32.const 1) ;; if insert into table 1\n",
    "                ) \n",
    "                    (then\n",
    "                        (set_local $key (i32.load (get_local $existing))) ;; get the key of the existing node\n",
    "                        (set_local $arr1_index (call $hash1 (call $len_array (i32.load(i32.add (get_local $map) (i32.const 4)))) (get_local $key))) ;; hash key and find index in array 1\n",
    "                        (set_local $temp (call $get_array (i32.load(i32.add (get_local $map) (i32.const 4))) (get_local $arr1_index))) ;; set temp to the value in the index\n",
    "                        (call $set_array (\n",
    "           i32.load(i32.add (get_local $map) (i32.const 4))) (get_local $arr1_index) (get_local $existing)) ;; store the exisitng in the index\n",
    "                        (set_local $existing (get_local $temp)) ;; set exisitng to temp (what was in the index before)\n",
    "                        (set_local $table (i32.const 2)) ;; set table to 2\n",
    "                    )\n",
    "                    (else ;; if insert into table 2\n",
    "                       (set_local $key (i32.load (get_local $existing)))\n",
    "                       (set_local $arr2_index (call $hash2 (call $len_array (i32.load(i32.add (get_local $map) (i32.const 8)))) (get_local $key)))\n",
    "                       (set_local $temp (call $get_array (i32.load(i32.add (get_local $map) (i32.const 8))) (get_local $arr2_index)))\n",
    "                        (call $set_array (\n",
    "           i32.load(i32.add (get_local $map) (i32.const 8))) (get_local $arr2_index) (get_local $existing))\n",
    "                        (set_local $existing (get_local $temp))\n",
    "                        (set_local $table (i32.const 1)) ;; set table to 1\n",
    "                    )\n",
    "                )\n",
    "                (set_local $max_replace                       \n",
    "                    (i32.add (get_local $max_replace) (i32.const 1))) ;; max_replace + 1\n",
    "                br $LOOP\n",
    "            end\n",
    "        end\n",
    "        (if (i32.eq \n",
    "                    (get_local $existing) \n",
    "                    (i32.const 0) ;; if nothing in index\n",
    "                ) \n",
    "            (then\n",
    "                (call $set_array (\n",
    "           i32.load(i32.add (get_local $map) (i32.const 4))) (get_local $arr1_index) (get_local $node))\n",
    "            )\n",
    "        )\n",
    "        (if (i32.and (i32.ne (get_local $existing) (i32.const 0)) (i32.eq (get_local $max_replace) (i32.const 5)))\n",
    "            (then\n",
    "                (call $expand_map (get_local $map))\n",
    "                (call $insert_map (get_local $map) (i32.load (get_local $existing)) \n",
    "                     (i32.load (i32.add (get_local $existing) (i32.const 4))))  \n",
    "            )\n",
    "        ) \n",
    "        ))\n",
    "    )"
   ]
  },
  {
   "cell_type": "markdown",
   "metadata": {},
   "source": [
    "<b>Function used to update value of key in map.</b><br>\n",
    "<i>Input: 32 bit integer address of map.</i><br>\n",
    "<i>Input: 32 bit integer key.</i><br>\n",
    "<i>Input: 32 bit integer value address.</i><br>"
   ]
  },
  {
   "cell_type": "code",
   "execution_count": 17,
   "metadata": {},
   "outputs": [
    {
     "name": "stdout",
     "output_type": "stream",
     "text": [
      "Appending to map.wat\n"
     ]
    }
   ],
   "source": [
    "%%writefile -a map.wat\n",
    "    (func $update_key (param $map i32) (param $key i32) (param $value i32)\n",
    "       (local $arr1_index i32)\n",
    "       (local $arr2_index i32)\n",
    "       (local $node i32)\n",
    "       (set_local $arr1_index (call $hash1 (call $len_array (i32.load(i32.add (get_local $map) (i32.const 4)))) (get_local $key)))\n",
    "       (set_local $arr2_index (call $hash2 (call $len_array (i32.load(i32.add (get_local $map) (i32.const 8)))) (get_local $key)))\n",
    "       (set_local $node (call $get_array (i32.load(i32.add (get_local $map) (i32.const 4))) (get_local $arr1_index)))\n",
    "       (if (i32.and (i32.ne (get_local $node) (i32.const 0))\n",
    "                    (i32.eq (i32.load (get_local $node))(get_local $key)) ;; check in Array1\n",
    "           )\n",
    "            (then\n",
    "                (i32.store (i32.add (get_local $node) (i32.const 4)) (get_local $value)) ;; set value address\n",
    "            )\n",
    "       )\n",
    "       (set_local $node (call $get_array (i32.load(i32.add (get_local $map) (i32.const 8))) (get_local $arr2_index)))\n",
    "       (if (i32.and (i32.ne (get_local $node) (i32.const 0))\n",
    "                    (i32.eq (i32.load (get_local $node))(get_local $key)) ;; check in Array2\n",
    "           )\n",
    "            (then\n",
    "                (i32.store (i32.add (get_local $node) (i32.const 4)) (get_local $value)) ;; set value address\n",
    "            )\n",
    "       )\n",
    "    )"
   ]
  },
  {
   "cell_type": "markdown",
   "metadata": {},
   "source": [
    "<b>Function used to get value stored at key in map.</b><br>\n",
    "<i>Input: 32 bit integer address of map.</i><br>\n",
    "<i>Input: 32 bit integer key.</i><br>\n",
    "<i>Output: 32 bit integer value address.</i><br>"
   ]
  },
  {
   "cell_type": "code",
   "execution_count": 18,
   "metadata": {},
   "outputs": [
    {
     "name": "stdout",
     "output_type": "stream",
     "text": [
      "Appending to map.wat\n"
     ]
    }
   ],
   "source": [
    "%%writefile -a map.wat\n",
    "\n",
    "    (func $get_map (param $map i32) (param $key i32) (result i32)\n",
    "       (local $arr1_index i32)\n",
    "       (local $arr2_index i32)\n",
    "       (local $node i32)\n",
    "       (local $map_size i32)\n",
    "       (set_local $map_size (call $len_map (get_local $map)))\n",
    "       (set_local $arr1_index (call $hash1 (call $len_array (i32.load(i32.add (get_local $map) (i32.const 4)))) (get_local $key)))\n",
    "       (set_local $arr2_index (call $hash2 (call $len_array (i32.load(i32.add (get_local $map) (i32.const 8)))) (get_local $key)))\n",
    "\n",
    "       (set_local $node (call $get_array (i32.load(i32.add (get_local $map) (i32.const 4))) (get_local $arr1_index)))\n",
    "       (if (i32.and (i32.ne (get_local $node) (i32.const 0))\n",
    "                    (i32.eq (i32.load (get_local $node))(get_local $key)) ;; check in Array1\n",
    "           )\n",
    "            (then\n",
    "                (return (i32.load (i32.add(get_local $node)(i32.const 4))))\n",
    "            )\n",
    "       )\n",
    "       (set_local $node (call $get_array (i32.load(i32.add (get_local $map) (i32.const 8))) (get_local $arr2_index)))\n",
    "       (if (i32.and (i32.ne (get_local $node) (i32.const 0))\n",
    "                    (i32.eq (i32.load (get_local $node))(get_local $key)) ;; check in Array2\n",
    "           )\n",
    "            (then\n",
    "                (return (i32.load (i32.add(get_local $node)(i32.const 4))))\n",
    "            )\n",
    "       )\n",
    "       (i32.const -1)\n",
    "    )\n",
    " "
   ]
  },
  {
   "cell_type": "markdown",
   "metadata": {},
   "source": [
    "<b>Function used to get size of map.</b><br>\n",
    "<i>Input: 32 bit integer address of map.</i><br>\n",
    "<i>Output: 32 bit integer size of map.</i><br>"
   ]
  },
  {
   "cell_type": "code",
   "execution_count": 19,
   "metadata": {},
   "outputs": [
    {
     "name": "stdout",
     "output_type": "stream",
     "text": [
      "Appending to map.wat\n"
     ]
    }
   ],
   "source": [
    "%%writefile -a map.wat\n",
    "     ;; return the array length\n",
    "    (func $len_map (param $map i32) (result i32)\n",
    "        (i32.load (get_local $map))\n",
    "    )\n"
   ]
  },
  {
   "cell_type": "markdown",
   "metadata": {},
   "source": [
    "<b>Function used to get number of records in map.</b><br>\n",
    "<i>Input: 32 bit integer address of map.</i><br>\n",
    "<i>Output: 32 bit integer number of records in map.</i><br>"
   ]
  },
  {
   "cell_type": "code",
   "execution_count": 20,
   "metadata": {},
   "outputs": [
    {
     "name": "stdout",
     "output_type": "stream",
     "text": [
      "Appending to map.wat\n"
     ]
    }
   ],
   "source": [
    "%%writefile -a map.wat\n",
    "    (func $numOfRecords (param $map i32) (result i32)\n",
    "        (i32.load (i32.add (get_local $map) (i32.const 12)))\n",
    "    )"
   ]
  },
  {
   "cell_type": "markdown",
   "metadata": {},
   "source": [
    "<b>Sample tests in Web Assembly</b>"
   ]
  },
  {
   "cell_type": "code",
   "execution_count": 21,
   "metadata": {},
   "outputs": [
    {
     "name": "stdout",
     "output_type": "stream",
     "text": [
      "Appending to map.wat\n"
     ]
    }
   ],
   "source": [
    "%%writefile -a map.wat\n",
    "    (func $main\n",
    "        (local $map1 i32)\n",
    "        ;; The first i32 records the beginning offset of available space\n",
    "        ;; so the initial offset should be 4 (bytes)\n",
    "        (i32.store (i32.const 0) (i32.const 4))     \n",
    "\n",
    "        (set_local $map1 (call $map))   ;; create a map and assign to $map1\n",
    "        (call $len_map (get_local $map1))\n",
    "        call $write                                   ;; print map initial length of 8\n",
    "        (call $len_array (i32.load(i32.add (get_local $map1) (i32.const 4))))\n",
    "        call $write\n",
    "        (call $insert_map (get_local $map1) (i32.const 9) (i32.const 2345)) ;; insert \n",
    "        (call $insert_map (get_local $map1) (i32.const 9) (i32.const 2346)) ;; insert \n",
    "        (call $insert_map (get_local $map1) (i32.const 1) (i32.const 235)) ;; insert \n",
    "        (call $insert_map (get_local $map1) (i32.const 5) (i32.const 236)) ;; insert \n",
    "        (call $insert_map (get_local $map1) (i32.const 13) (i32.const 123)) ;; insert \n",
    "        (call $insert_map (get_local $map1) (i32.const 12) (i32.const 124)) ;; insert \n",
    "        (call $insert_map (get_local $map1) (i32.const 123) (i32.const 235)) ;; insert \n",
    "        (call $insert_map (get_local $map1) (i32.const 5423) (i32.const 236)) ;; insert \n",
    "        (call $insert_map (get_local $map1) (i32.const 234) (i32.const 123)) ;; insert \n",
    "        (call $insert_map (get_local $map1) (i32.const 243) (i32.const 124)) ;; insert \n",
    "        (call $get_map (get_local $map1) (i32.const 9)) ;; get key 9\n",
    "        call $write\n",
    "        (call $get_map (get_local $map1) (i32.const 1)) ;; get key 2\n",
    "        call $write\n",
    "        (call $get_map (get_local $map1) (i32.const 5)) ;; get key 2\n",
    "        call $write\n",
    "        (call $get_map (get_local $map1) (i32.const 13)) ;; get key 2\n",
    "        call $write\n",
    "        (call $get_map (get_local $map1) (i32.const 12)) ;; get key 2\n",
    "        call $write\n",
    "        (call $numOfRecords (get_local $map1)) ;; get number of records\n",
    "        call $write\n",
    "        (call $write (call $len_map (get_local $map1))) ;; new size of map\n",
    "        (call $write (call $in_map (get_local $map1) (i32.const 10))) ;; is key = 10 in map (false = 0)\n",
    "    )\n",
    "     (func $testingMap\n",
    "        ;;declaring map \n",
    "        (local $myMap i32) (i32.store (i32.const 0) (i32.const 4))\n",
    "        (set_local $myMap (call $map))\n",
    "        ;;getting length\n",
    "        get_local $myMap\n",
    "        call $len_map\n",
    "        call $write      \n",
    "        ;; adding <1, 19>\n",
    "        get_local $myMap\n",
    "        i32.const 1 \n",
    "        i32.const 19\n",
    "        call $insert_map\n",
    "        ;; fetching myMap[1]\n",
    "        get_local $myMap\n",
    "        i32.const 1 \n",
    "        call $get_map\n",
    "        call $write\n",
    "        ;; fetching len(myMap)\n",
    "        get_local $myMap\n",
    "        call  $numOfRecords\n",
    "        call $write\n",
    "        ;;mass insertion\n",
    "        (call $insert_map (get_local $myMap) (i32.const 2) (i32.const 121))\n",
    "        (call $insert_map (get_local $myMap) (i32.const 4) (i32.const 343))\n",
    "        (call $insert_map (get_local $myMap) (i32.const 11) (i32.const 16))\n",
    "        (call $insert_map (get_local $myMap) (i32.const 22) (i32.const 45))\n",
    "        ;;overwriting <1,19> to <1,2>\n",
    "        (call $insert_map (get_local $myMap) (i32.const 1) (i32.const 2))\n",
    "        get_local $myMap\n",
    "        i32.const 1 \n",
    "        call $get_map\n",
    "        call $write\n",
    "        (call $numOfRecords (get_local $myMap))\n",
    "        call $write\n",
    "      ;; output should be, size of map, fetching <1,19>, num of records, fetching <1,2>, num records again\n",
    "    )\n",
    "    ;; (start $testingMap)\n",
    "    \n",
    "    (start $main)\n",
    ")"
   ]
  },
  {
   "cell_type": "code",
   "execution_count": 22,
   "metadata": {},
   "outputs": [
    {
     "name": "stdout",
     "output_type": "stream",
     "text": [
      "8\n",
      "4\n",
      "2346\n",
      "235\n",
      "236\n",
      "123\n",
      "124\n",
      "9\n",
      "32\n",
      "0\n"
     ]
    }
   ],
   "source": [
    "!wat2wasm map.wat\n",
    "runpywasm(\"map.wasm\")"
   ]
  },
  {
   "cell_type": "code",
   "execution_count": null,
   "metadata": {},
   "outputs": [],
   "source": []
  }
 ],
 "metadata": {
  "kernelspec": {
   "display_name": "Python 3.10.5 64-bit",
   "language": "python",
   "name": "python3"
  },
  "language_info": {
   "codemirror_mode": {
    "name": "ipython",
    "version": 3
   },
   "file_extension": ".py",
   "mimetype": "text/x-python",
   "name": "python",
   "nbconvert_exporter": "python",
   "pygments_lexer": "ipython3",
   "version": "3.10.5"
  },
  "vscode": {
   "interpreter": {
    "hash": "aee8b7b246df8f9039afb4144a1f6fd8d2ca17a180786b69acc140d282b71a49"
   }
  }
 },
 "nbformat": 4,
 "nbformat_minor": 2
}
