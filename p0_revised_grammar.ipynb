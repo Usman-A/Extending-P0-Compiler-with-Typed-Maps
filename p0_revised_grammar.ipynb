{
 "cells": [
  {
   "cell_type": "markdown",
   "metadata": {},
   "source": [
    "### The P0 Grammar\n",
    "\n",
    "    selector ::= { \"[\" expression \"]\" | \".\" ident  | \".get(\" expression \")\" | \".len()\" }\n",
    "    factor ::= ident selector | integer | \"(\" expression \")\" | \"{\" [expression {\",\" expression}] \"}\" | (\"¬\" | \"#\" | \"∁\") factor\n",
    "    term ::= factor {(\"×\" | \"div\" | \"mod\" | \"∩\" | \"and\") factor}\n",
    "    simpleExpression ::= [\"+\" | \"-\"] term {(\"+\" | \"-\" | \"∪\" | \"or\") term}\n",
    "    expression ::= simpleExpression\n",
    "        {(\"=\" | \"≠\" | \"<\" | \"≤\" | \">\" | \"≥\" | \"∈\" | \"⊆\" | \"⊇\" | \"in\") simpleExpression}\n",
    "    statementList ::= statement {\";\" statement}\n",
    "    statementBlock ::= statementList {statementList}\n",
    "    statementSuite ::= statementList | INDENT statementBlock DEDENT\n",
    "    statement ::=\n",
    "        ident selector \":=\" expression |\n",
    "        ident {\",\" ident} (\":=\" expression {\",\" expression} |\n",
    "            \"←\" ident \"(\" [expression {\",\" expression}] \")\") |\n",
    "        \"if\" expression \"then\" statementSuite [\"else\" statementSuite] |\n",
    "        \"while\" expression \"do\" statementSuite |\n",
    "        ident \".init\" |\n",
    "        ident \".insert(\" expression, expression \")\"\n",
    "    type ::=\n",
    "        ident |\n",
    "        \"[\" expression \"..\" expression \"]\" \"→\" type |\n",
    "        \"(\" typedIds \")\" |\n",
    "        \"set\" \"[\" expression \"..\" expression \"]\" |\n",
    "        \"map\" \"<\" type \",\" type \">\"\n",
    "    typedIds ::= ident \":\" type {\",\" ident \":\" type}\n",
    "    declarations ::= \n",
    "        {\"const\" ident \"=\" expression}\n",
    "        {\"type\" ident \"=\" type}\n",
    "        {\"var\" typedIds}\n",
    "        {\"procedure\" ident \"(\" [typedIds] \")\" [ \"→\" \"(\" typedIds \")\" ] body}\n",
    "    body ::= INDENT declarations (statementBlock | INDENT statementBlock DEDENT) DEDENT\n",
    "    program ::= declarations \"program\" ident body"
   ]
  },
  {
   "cell_type": "code",
   "execution_count": null,
   "metadata": {
    "collapsed": true
   },
   "outputs": [],
   "source": []
  }
 ],
 "metadata": {
  "kernelspec": {
   "display_name": "Python 3.10.5 64-bit",
   "language": "python",
   "name": "python3"
  },
  "language_info": {
   "codemirror_mode": {
    "name": "ipython",
    "version": 3
   },
   "file_extension": ".py",
   "mimetype": "text/x-python",
   "name": "python",
   "nbconvert_exporter": "python",
   "pygments_lexer": "ipython3",
   "version": "3.10.5"
  },
  "vscode": {
   "interpreter": {
    "hash": "aee8b7b246df8f9039afb4144a1f6fd8d2ca17a180786b69acc140d282b71a49"
   }
  }
 },
 "nbformat": 4,
 "nbformat_minor": 2
}
