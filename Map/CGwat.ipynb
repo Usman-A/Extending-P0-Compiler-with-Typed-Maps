{
 "cells": [
  {
   "cell_type": "markdown",
   "metadata": {},
   "source": [
    "### P0 Code Generator for WASM\n",
    "\n",
    "#### Emil Sekerinski, revised March 2021\n",
    "#### Modified by Usman Asad, Faisal Jaffer, Aleem Haq. Modified in April 2021\n",
    "\n",
    "The generated code is kept in memory and all code generation procedures continuously append to that code: procedure `genProgStart` initializes the generator, then `gen`-prefixed procedures are to be called for P0 constructs in the same order in which they are recognized by a recursive descent parser, and finally procedure `genProgExit` returns the generated code in assembly language as a string in textual WebAssembly. The generation procedures are:\n",
    "- `genBool`, `genInt`, `genRec`, `genArray`, `genSet`, `genMap`\n",
    "- `genProgStart`, `genGlobalVars`, `genProgEntry`, `genProgExit`\n",
    "- `genProcStart`, `genLocalVars`, `genProcEntry`, `genProcExit`\n",
    "- `genInitMap`, `genInsertMap`, `genGetMap`, `genMapLen`, `genInRelation`\n",
    "- `genIndex`, `genSelect`, `genVar`, `genConst`, `genUnaryOp`, `genBinaryOp`, `genRelation`\n",
    "- `genLeftAssign`, `genRightAssign`, `genAssign`, `genActualPara`, `genCall`\n",
    "- `genRead`, `genWrite`, `genWriteln`\n",
    "- `genSeq`, `genThen`, `genIfThen`, `genElse`, `genIfElse`, `genWhile`, `genDo`, `genWhileDo`\n",
    "\n",
    "Errors in the code generator are reported by calling `mark` of the scanner. The data types of the symbol table are used to specify the P0 constructs for which code is to be generated."
   ]
  },
  {
   "cell_type": "code",
   "execution_count": 1,
   "metadata": {},
   "outputs": [
    {
     "name": "stdout",
     "output_type": "stream",
     "text": [
      "Importing Jupyter notebook from SC.ipynb\n",
      "Importing Jupyter notebook from ST.ipynb\n",
      "Importing Jupyter notebook from Map_Proto.ipynb\n"
     ]
    }
   ],
   "source": [
    "import nbimporter; nbimporter.options[\"only_defs\"] = False\n",
    "from SC import TIMES, DIV, MOD, AND, PLUS, MINUS, OR, EQ, NE, LT, GT, LE, GE, \\\n",
    "     NOT, CARD, COMPLEMENT, UNION, INTERSECTION, ELEMENT, SUBSET, SUPERSET, SET, \\\n",
    "     mark\n",
    "from ST import indent, Var, Const, Type, Proc, StdProc, Int, Bool, Array, \\\n",
    "     Record, Set, Map\n",
    "import Map_Proto"
   ]
  },
  {
   "cell_type": "markdown",
   "metadata": {},
   "source": [
    "Following variables determine the state of the code generator:\n",
    "\n",
    "- `curlev` is the current level of nesting of P0 procedures\n",
    "- `memmax` is the size of the memory, in which records and arrays are allocated\n",
    "- `asm` is a list of strings with the WASM instruction in textual form"
   ]
  },
  {
   "cell_type": "markdown",
   "metadata": {},
   "source": [
    "Procedure `genProgStart()` initializes these variables and imports the helper functions used for type Map."
   ]
  },
  {
   "cell_type": "code",
   "execution_count": 3,
   "metadata": {},
   "outputs": [],
   "source": [
    "def genProgStart():\n",
    "    global curlev, memsize, asm\n",
    "    curlev, memsize = 0, 0\n",
    "    asm = ['(module',\n",
    "           '(import \"P0lib\" \"write\" (func $write (param i32)))',\n",
    "           '(import \"P0lib\" \"writeln\" (func $writeln))',\n",
    "           '(import \"P0lib\" \"time\" (func $time))',\n",
    "           '(import \"P0lib\" \"err\" (func $err))',\n",
    "           '(import \"P0lib\" \"read\" (func $read (result i32)))']\n",
    "    imp = Map_Proto.map_proto().split(\"\\n\")\n",
    "    for i in imp:\n",
    "        asm.append(i)"
   ]
  },
  {
   "cell_type": "markdown",
   "metadata": {},
   "source": [
    "Following procedures \"generate code\" for all P0 types by determining the size of objects and store in the `size` field.\n",
    "- Integers and booleans occupy 4 bytes\n",
    "- The size of a record is the sum of the sizes of its field; the offset of a field is the sum of the size of the preceding fields\n",
    "- The size of an array is its length times the size of the base type.\n",
    "\n",
    "In the procedure for generating Maps `genMap`, size is not being tracked, memory mangement is handled purely within the WebAssembly implementation. "
   ]
  },
  {
   "cell_type": "code",
   "execution_count": null,
   "metadata": {},
   "outputs": [],
   "source": [
    "def genBool(b: Bool):\n",
    "    b.size = 1; return b\n",
    "\n",
    "def genInt(i: Int):\n",
    "    i.size = 4; return i\n",
    "\n",
    "def genRec(r: Record):\n",
    "    s = 0\n",
    "    for f in r.fields:\n",
    "        f.offset, s = s, s + f.tp.size\n",
    "    r.size = s\n",
    "    return r\n",
    "\n",
    "def genArray(a: Array):\n",
    "    a.size = a.length * a.base.size\n",
    "    return a\n",
    "\n",
    "def genSet(s: Set):\n",
    "    if s.lower < 0 or s.lower + s.length > 32:\n",
    "        mark('WASM: set too large')\n",
    "    s.size = 4; return s\n",
    "    \n",
    "def genMap(m: Map):\n",
    "    return m"
   ]
  },
  {
   "cell_type": "markdown",
   "metadata": {},
   "source": [
    "The symbol table assigns to each entry the level of declaration in the field `lev: int`. Variables are assigned a `name: str` field by the symbol table and an `adr: int` field by the code generator. The use of the `lev` field is extended:"
   ]
  },
  {
   "cell_type": "code",
   "execution_count": null,
   "metadata": {},
   "outputs": [],
   "source": [
    "Global = 0; Stack = -1; MemInd = -2; MemAbs = -3"
   ]
  },
  {
   "cell_type": "markdown",
   "metadata": {},
   "source": [
    "- `lev > 0`: local `Int`, `Bool`, `Set` variable or parameter allocated in the procedure (function) call frame, accessed by `name` or `Array`, `Record` variable in memory with address in local variable `name`.\n",
    "- `lev = Global`: global `Int`, `Bool`, `Set` variable allocated as a WebAssembly global variable, accessed by `name`,\n",
    "- `lev = Stack`: `Int`, `Bool`, `Set` variable on the expression stack, `Array`, `Record` variable in memory with address on the expression stack,\n",
    "- `lev = MemInd`: `Int`, `Bool`, `Set` variable in WebAssembly memory with address on expression stack\n",
    "- `lev = MemAbs`: `Int`, `Bool`, `Set`, `Array`, `Record` variable allocated in WebAssembly memory, accessed by `adr`."
   ]
  },
  {
   "cell_type": "markdown",
   "metadata": {},
   "source": [
    "For each declared global variable, `genGlobalVars(sc, start)` allocates a global WebAssembly variable by the same name, if the type is `Int` or `Bool`, or reserves space in the memory, if the type is `Array`, `Record`. The parameter `sc` contains the top scope with all declarations parsed so far; only variable declarations from index `start` on in the top scope are considered."
   ]
  },
  {
   "cell_type": "code",
   "execution_count": null,
   "metadata": {},
   "outputs": [],
   "source": [
    "def genGlobalVars(sc, start):\n",
    "    global memsize\n",
    "    for i in range(start, len(sc)):\n",
    "        if type(sc[i]) == Var:\n",
    "            if sc[i].tp in (Int, Bool) or type(sc[i].tp) == Set:\n",
    "                asm.append('(global $' + sc[i].name + ' (mut i32) i32.const 0)')\n",
    "            elif type(sc[i].tp) in (Array, Record):\n",
    "                sc[i].lev, sc[i].adr, memsize = MemAbs, memsize, memsize + sc[i].tp.size\n",
    "            elif type(sc[i].tp) in {Map}:\n",
    "                sc[i].adr, memsize = memsize, memsize + 56\n",
    "            else: mark('WASM: type?')\n",
    "    \n",
    "def genLocalVars(sc, start):\n",
    "    global memsize\n",
    "    for i in range(start, len(sc)):\n",
    "        if type(sc[i]) == Var:\n",
    "            asm.append('(local $' + sc[i].name + ' i32)')\n",
    "            if type(sc[i].tp) in {Map}:\n",
    "                sc[i].adr, memsize = memsize, memsize + 56\n",
    "    asm.append('(local $0 i32)') # auxiliary local variable\n",
    "    return sc[start:]"
   ]
  },
  {
   "cell_type": "markdown",
   "metadata": {},
   "source": [
    "The methods in the following cell are all used for generating certain portions of the map's code. \n",
    "- `genInitMap(x)` is used to intialize a map in memory so that it operations can be done on it. \n",
    "- `genInsertMap(x,key,value)` is used to generate the code to insert a <key,value> pair into the map, it is able to deal with using vars or constant's as the key's and values.\n",
    "- `genGetMap(x,key)` generates the code to get the value at key `key`.\n",
    "- `genMapLen(x)` generates the code accessing the number of records that have been inserted into the map, ie the length of the map.\n",
    "- `genInRelation(x,y)` is used to generate the code checking if key x is in map y, it supports the cases where x is a const value or if it is a variable. "
   ]
  },
  {
   "cell_type": "code",
   "execution_count": 2,
   "metadata": {},
   "outputs": [],
   "source": [
    "def genInitMap(x):\n",
    "    x.tp.lvl = 1\n",
    "    if type(x) == Var and type(x.tp) == Map:\n",
    "        asm.append('(local.set $' + x.name + ' (call $map))')\n",
    "\n",
    "def genInsertMap(x, key, value):\n",
    "    if type(value) == Const and type(key) == Var:\n",
    "        asm.append('(call $insert_map (' + 'get_local ' + '$' + x.name + ')'+ '(local.get $'+ str(key.name) +')' + '(i32.const '+ str(value.val) + '))')\n",
    "    elif type(value) == Var and type(key) == Var:\n",
    "        asm.append('(call $insert_map (' + 'get_local ' + '$' + x.name + ')'+ '(local.get $'+ str(key.name) +')' + '(local.get $'+ str(value.name) + '))')\n",
    "    elif type(value) == Var and type(key) == Const:\n",
    "        asm.append('(call $insert_map (' + 'get_local ' + '$' + x.name + ')'+ '(i32.const '+ str(key.val) +')' + '(local.get $'+ str(value.name) + '))')\n",
    "    else:\n",
    "        asm.append('(call $insert_map (' + 'get_local ' + '$' + x.name + ')'+ '(i32.const '+ str(key.val) +')' + '(i32.const '+ str(value.val) + '))')\n",
    "    \n",
    "def genGetMap(x, key):\n",
    "    if type(key) == Var:\n",
    "        asm.append('(call $get_map (get_local $' + x.name + ') (get_local $'+ str(key.name) +'))')\n",
    "    else:\n",
    "        asm.append('(call $get_map (get_local $' + x.name + ') (i32.const '+ str(key.val) +'))')\n",
    "    return x\n",
    "\n",
    "def genMapLen(x):\n",
    "    asm.append('(call $numOfRecords (get_local $' + x.name + '))')\n",
    "    return x\n",
    "def genInRelation(x, y):\n",
    "    if type(x) == Var:\n",
    "        asm.append('(call $in_map (get_local $' + y.name + ') (get_local $'+ str(x.name) +'))')\n",
    "    else:\n",
    "        asm.append('(call $in_map (get_local $' + y.name + ') (i32.const '+ str(x.val) +'))')\n",
    "    x = Var(Bool); x.lev = Stack\n",
    "    return x"
   ]
  },
  {
   "cell_type": "markdown",
   "metadata": {},
   "source": [
    "Procedure `loadItem(x)` generates code for loading `x` on the expression stack, assuming `x` is global `Var`, local `Var`, stack `Var`, memory `Var`, or `Const`."
   ]
  },
  {
   "cell_type": "code",
   "execution_count": null,
   "metadata": {},
   "outputs": [],
   "source": [
    "def loadItem(x):\n",
    "    if type(x) == Var:\n",
    "        if x.lev == Global: asm.append('global.get $' + x.name) # global Var\n",
    "        elif x.lev == curlev: asm.append('local.get $' + x.name) # local Var\n",
    "        elif x.lev == MemInd: asm.append('i32.load')\n",
    "        elif x.lev == MemAbs:\n",
    "            asm.append('i32.const ' + str(x.adr))\n",
    "            if x.tp in {Int, Bool}: asm.append('i32.load')\n",
    "        elif x.lev != Stack: mark('WASM: var level!') # already on stack if lev == Stack\n",
    "    else: asm.append('i32.const ' + str(x.val))"
   ]
  },
  {
   "cell_type": "code",
   "execution_count": null,
   "metadata": {},
   "outputs": [],
   "source": [
    "def genVar(x):\n",
    "    if Global < x.lev < curlev: mark('WASM: level!')\n",
    "    y = Var(x.tp); y.lev, y.name = x.lev, x.name\n",
    "    if x.lev == MemAbs: y.adr = x.adr\n",
    "    return y"
   ]
  },
  {
   "cell_type": "markdown",
   "metadata": {},
   "source": [
    "Procedure `genConst(x)` does not need to generate any code."
   ]
  },
  {
   "cell_type": "code",
   "execution_count": null,
   "metadata": {},
   "outputs": [],
   "source": [
    "def genConst(x):\n",
    "    # x is Const\n",
    "    x.lev = None # constants are either not stored or on stack, lev == Stack\n",
    "    return x"
   ]
  },
  {
   "cell_type": "markdown",
   "metadata": {},
   "source": [
    "Procedure `genUnaryOp(op, x)` generates code for `op x` if `op` is `MINUS`, `NOT`, `CARD`, `COMPLEMENT`, `Set`; the `Set` operation is for a singleton set. If `op` is `AND`, `OR`, item `x` is the first operand and an `if` instruction is generated."
   ]
  },
  {
   "cell_type": "code",
   "execution_count": null,
   "metadata": {},
   "outputs": [],
   "source": [
    "def genUnaryOp(op, x):\n",
    "    loadItem(x)\n",
    "    if op == MINUS:\n",
    "        asm.append('i32.const -1')\n",
    "        asm.append('i32.mul')\n",
    "        x = Var(Int); x.lev = Stack\n",
    "    elif op == CARD:\n",
    "        asm.append('i32.popcnt')\n",
    "        x = Var(Int); x.lev = Stack\n",
    "    elif op == COMPLEMENT:\n",
    "        u = (1 << x.tp.length) - 1 # x.tp.length 1's\n",
    "        u = u << x.tp.lower # universe of base type\n",
    "        asm.append('i32.const ' + hex(u))\n",
    "        asm.append('i32.xor')\n",
    "        x = Var(x.tp); x.lev = Stack\n",
    "    elif op == SET:\n",
    "        asm.append('local.set $0')\n",
    "        asm.append('i32.const 1')\n",
    "        asm.append('local.get $0')\n",
    "        asm.append('i32.shl')\n",
    "        x = Var(Set(0, 32)); x.lev = Stack\n",
    "    elif op == NOT:\n",
    "        asm.append('i32.eqz')\n",
    "        x = Var(Bool); x.lev = Stack\n",
    "    elif op == AND:\n",
    "        asm.append('if (result i32)')\n",
    "        x = Var(Bool); x.lev = Stack\n",
    "    elif op == OR:\n",
    "        asm.append('if (result i32)')\n",
    "        asm.append('i32.const 1')\n",
    "        asm.append('else')\n",
    "        x = Var(Bool); x.lev = Stack\n",
    "    elif op == ELEMENT:\n",
    "        asm.append('local.set $0')\n",
    "        asm.append('i32.const 1')\n",
    "        asm.append('local.get $0')\n",
    "        asm.append('i32.shl')\n",
    "        x = Var(Int); x.lev = Stack\n",
    "    elif op in {SUBSET, SUPERSET}:\n",
    "        asm.append('local.tee $0')\n",
    "        asm.append('local.get $0')\n",
    "        x.lev = Stack\n",
    "    else: mark('WASM: unary operator?')\n",
    "    return x"
   ]
  },
  {
   "cell_type": "markdown",
   "metadata": {},
   "source": [
    "Procedure `genBinaryOp(op, x, y)` generates code for `x op y` if `op` is `PLUS`, `MINUS`, `TIMES`, `DIV`, `MOD`, `UNION`, `INTERSECTION`. If `op` is `AND`, `OR`, code for `x` and the start of an `if` instruction has already been generated; code for `y` and the remainder of the `if` instruction is generated."
   ]
  },
  {
   "cell_type": "code",
   "execution_count": null,
   "metadata": {},
   "outputs": [],
   "source": [
    "def genBinaryOp(op, x, y):\n",
    "    if op in (PLUS, MINUS, TIMES, DIV, MOD):\n",
    "        loadItem(x); loadItem(y)\n",
    "        asm.append('i32.add' if op == PLUS else \\\n",
    "                   'i32.sub' if op == MINUS else \\\n",
    "                   'i32.mul' if op == TIMES else \\\n",
    "                   'i32.div_s' if op == DIV else \\\n",
    "                   'i32.rem_s' if op == MOD else '?')\n",
    "        x = Var(Int); x.lev = Stack\n",
    "    elif op in {UNION, INTERSECTION}:\n",
    "        loadItem(x); loadItem(y)\n",
    "        asm.append('i32.or' if op == UNION else \\\n",
    "                   'i32.and' if op == INTERSECTION else '?')\n",
    "        x = Var(x.tp); x.lev = Stack\n",
    "    elif op == AND:\n",
    "        loadItem(y) # x is already on the stack\n",
    "        asm.append('else')\n",
    "        asm.append('i32.const 0')\n",
    "        asm.append('end')\n",
    "        x = Var(Bool); x.lev = Stack\n",
    "    elif op == OR:\n",
    "        loadItem(y) # x is already on the stack\n",
    "        asm.append('end')\n",
    "        x = Var(Bool); x.lev = Stack\n",
    "    else: mark('WASM: binary operator?')\n",
    "    return x"
   ]
  },
  {
   "cell_type": "markdown",
   "metadata": {},
   "source": [
    "Procedure `genRelation(op, x, y)` generates code for `x op y` if `op` is `EQ`, `NE`, `LT`, `LE`, `GT`, `GE`, `ELEMENT`, `SUBSET`, `SUPERSET`."
   ]
  },
  {
   "cell_type": "code",
   "execution_count": null,
   "metadata": {},
   "outputs": [],
   "source": [
    "def genRelation(op, x, y):\n",
    "    loadItem(x); loadItem(y)\n",
    "    asm.extend(['i32.eq'] if op == EQ else \\\n",
    "               ['i32.ne'] if op == NE else \\\n",
    "               ['i32.lt_s'] if op ==  LT else \\\n",
    "               ['i32.gt_s'] if op == GT else \\\n",
    "               ['i32.le_s'] if op == LE else \\\n",
    "               ['i32.ge_s'] if op == GE else \\\n",
    "               ['i32.and'] if op == ELEMENT else \\\n",
    "               ['i32.and', 'i32.eq'] if op == SUBSET else \\\n",
    "               ['i32.or', 'i32.eq'] if op == SUPERSET else '?')\n",
    "    x = Var(Bool); x.lev = Stack\n",
    "    return x"
   ]
  },
  {
   "cell_type": "markdown",
   "metadata": {},
   "source": [
    "Procedure `genIndex(x, y)` generates code for `x[y]`, assuming `x` is `Var` or `Ref`, `x.tp` is `Array`, and `y.tp` is `Int`. If `y` is `Const`, only `x.adr` is updated and no code is generated, otherwise code for array index calculation is generated."
   ]
  },
  {
   "cell_type": "code",
   "execution_count": null,
   "metadata": {},
   "outputs": [],
   "source": [
    "def genIndex(x, y):\n",
    "    # x[y], assuming x.tp is Array and x is global Var, local Var\n",
    "    # and y is Const, local Var, global Var, stack Var\n",
    "    if x.lev == MemAbs and type(y) == Const: \n",
    "        x.adr += (y.val - x.tp.lower) * x.tp.base.size\n",
    "        x.tp = x.tp.base\n",
    "    else:\n",
    "        loadItem(y)\n",
    "        if x.tp.lower != 0:\n",
    "            asm.append('i32.const ' + str(x.tp.lower))\n",
    "            asm.append('i32.sub')\n",
    "        asm.append('i32.const ' + str(x.tp.base.size))\n",
    "        asm.append('i32.mul')\n",
    "        if x.lev > 0: asm.append('local.get $' + x.name)\n",
    "        elif x.lev == MemAbs: asm.append('i32.const ' + str(x.adr))\n",
    "        asm.append('i32.add')\n",
    "        y = Var(x.tp.base)\n",
    "        y.name = x.name\n",
    "        x = y\n",
    "        if x.tp in (Int, Bool) or type(x.tp) == Set: x.lev = MemInd\n",
    "        else: x.lev = Stack\n",
    "    return x"
   ]
  },
  {
   "cell_type": "markdown",
   "metadata": {},
   "source": [
    "Procedure `genSelect(x, f)` generates code for `x.f`, provided `f` is in `x.fields`. If `x` is `Var`, i.e. allocated in memory, only `x.adr` is updated and no code is generated. If `x` is `Ref`, i.e. a reference to memory, code for adding the offset of `f` is generated. An updated item is returned."
   ]
  },
  {
   "cell_type": "code",
   "execution_count": null,
   "metadata": {},
   "outputs": [],
   "source": [
    "def genSelect(x, f):\n",
    "    # x.f, assuming x.tp is Record, f is Field, and x.lev is Stack, MemInd or is > 0\n",
    "    if x.lev == MemAbs: x.adr += f.offset\n",
    "    elif x.lev == Stack:\n",
    "        asm.append('i32.const ' + str(f.offset))\n",
    "        asm.append('i32.add')\n",
    "    elif x.lev > 0:\n",
    "        asm.append('local.get $' + x.name) # parameter or local reference\n",
    "        asm.append('i32.const ' + str(f.offset))\n",
    "        asm.append('i32.add')\n",
    "        x.lev = Stack\n",
    "    else: mark('WASM: select?')\n",
    "    x.tp = f.tp\n",
    "    return x"
   ]
  },
  {
   "cell_type": "markdown",
   "metadata": {},
   "source": [
    "Procedures `genLeftAssign` and `genRightAssign` prepare for code generation for multiple assignment statements: `genLeftAssign` completes the generated code for a variable and designator on the left-hand side of an assignment statement. That is only needed for an array that is indexed with a constant expression, as in that case no code was generated."
   ]
  },
  {
   "cell_type": "code",
   "execution_count": null,
   "metadata": {},
   "outputs": [],
   "source": [
    "def genLeftAssign(x):\n",
    "    if x.lev == MemAbs: asm.append('i32.const ' + str(x.adr))\n",
    "    elif x.lev > 0 and type(x.tp) in (Array, Record):\n",
    "        asm.append('local.get $' + x.name)\n",
    "    return x"
   ]
  },
  {
   "cell_type": "markdown",
   "metadata": {},
   "source": [
    "Procedure `genRightAssign` generated code that pushes the right-hand side of an assignment onto the stack, if it is not already there."
   ]
  },
  {
   "cell_type": "code",
   "execution_count": null,
   "metadata": {},
   "outputs": [],
   "source": [
    "def genRightAssign(x):\n",
    "    y = Var(x.tp); y.lev = Stack; \n",
    "    if not type(x.tp) == Map: loadItem(x); \n",
    "    else: y.name = x.name\n",
    "    return y"
   ]
  },
  {
   "cell_type": "markdown",
   "metadata": {},
   "source": [
    "Procedure `genAssign(x, y)` generates code for `x := y`, provided `x` is `Var`, `Ref` and `y` is `Var`, `Ref`. The procedure assumes in case `x` refers to an array element, the address is already on the stack and that `y` is on the stack."
   ]
  },
  {
   "cell_type": "code",
   "execution_count": null,
   "metadata": {},
   "outputs": [],
   "source": [
    "def genAssign(x, y):\n",
    "    if type(y.tp) == Map and (y.tp.valueType not in {Int, Bool, Set}):\n",
    "        if type(x.tp) == Array:\n",
    "            asm.append('local.set $0')\n",
    "        asm.append('local.set $' + x.name)\n",
    "    else:\n",
    "        loadItem(y)\n",
    "        if x.lev == Global: asm.append('global.set $' + x.name)\n",
    "        elif x.lev > 0:\n",
    "            if type(x.tp) in (Array, Record):\n",
    "                asm.append('i32.const ' + str(x.tp.size))\n",
    "                asm.append('memory.copy')\n",
    "            else: asm.append('local.set $' + x.name)\n",
    "        else:\n",
    "            if type(x.tp) in (Array, Record):\n",
    "                asm.append('i32.const ' + str(x.tp.size))\n",
    "                asm.append('memory.copy')\n",
    "            else: asm.append('i32.store')"
   ]
  },
  {
   "cell_type": "code",
   "execution_count": null,
   "metadata": {},
   "outputs": [],
   "source": [
    "def genProgEntry(ident):\n",
    "    global curlev\n",
    "    curlev = curlev + 1\n",
    "    asm.append('(global $_memsize (mut i32) i32.const ' + str(memsize) + ')')\n",
    "    asm.append('(func $program')\n",
    "\n",
    "def genProgExit(x):\n",
    "    global curlev\n",
    "    curlev = curlev - 1\n",
    "    asm.append('(memory ' + str(memsize // 2** 16 + 1) + ')\\n(start $program)\\n)')\n",
    "    return '\\n'.join(l for l in asm)\n",
    "\n",
    "def genProcStart(ident, fp, rp):\n",
    "    global curlev\n",
    "    if curlev > 0: mark('WASM: no nested procedures')\n",
    "    curlev = curlev + 1\n",
    "    asm.append('(func $' + ident + ' ' +\n",
    "               ' '.join('(param $' + e.name + ' i32)' for e in fp) + ' ' + \n",
    "               ' '.join('(result i32)' for e in rp) +\n",
    "               ('\\n' if len(rp) > 0 else '') +\n",
    "               '\\n'.join('(local $' + e.name + ' i32)' for e in rp))\n",
    "    return rp\n",
    "\n",
    "def genProcEntry(ident, para, local):\n",
    "    pl = (para if para else []) + local\n",
    "    if any(type(l) == Var and type(l.tp) in (Array, Record) for l in pl):\n",
    "        asm.append('(local $_fp i32)')\n",
    "        asm.append('global.get $_memsize')\n",
    "        asm.append('local.set $_fp')\n",
    "    for l in pl:\n",
    "        if type(l) == Var and type(l.tp) in (Array, Record):\n",
    "            asm.append('global.get $_memsize')\n",
    "            asm.append('i32.const ' + str(l.tp.size))\n",
    "            asm.append('i32.add')\n",
    "            asm.append('local.tee $' + l.name)\n",
    "            asm.append('global.set $_memsize')\n",
    "\n",
    "def genProcExit(x, para, local):\n",
    "    global curlev\n",
    "    curlev = curlev - 1\n",
    "    if any(type(l) == Var and type(l.tp) in (Array, Record) for l in local):\n",
    "        asm.append('local.get $_fp')\n",
    "        asm.append('global.set $_memsize')\n",
    "    if para: asm.append('\\n'.join('local.get $' + e.name for e in para))\n",
    "    asm.append(')')\n",
    "\n",
    "def genActualPara(ap, fp, n):\n",
    "    if not type(ap.tp) == Map:\n",
    "        if ap.tp in {Int, Bool} or type(ap.tp) == Set: loadItem(ap)\n",
    "        else: # a.tp is Array, Record\n",
    "            if ap.lev > 0: asm.append('local.get $' + ap.name)\n",
    "            elif ap.lev == MemAbs: asm.append('i32.const ' + str(ap.adr))\n",
    "            elif ap.lev != Stack: mark('WASM: actual parameter?')\n",
    "\n",
    "def genCall(rp, pr, ap): # result (or None), procedure, actual parameters\n",
    "    asm.append('call $' + pr.name)\n",
    "    for r in reversed(rp): y = Var(Int); y.lev = Stack; genAssign(r, y)\n",
    "\n",
    "def genRead(x):\n",
    "    asm.append('call $read')\n",
    "    y = Var(Int); y.lev = Stack; genAssign(x, y)\n",
    "\n",
    "def genWrite(x):\n",
    "    asm.append('call $write')\n",
    "    \n",
    "def genPrintTime():\n",
    "    asm.append('call $time')\n",
    "\n",
    "def genWriteln():\n",
    "    asm.append('call $writeln')"
   ]
  },
  {
   "cell_type": "code",
   "execution_count": null,
   "metadata": {},
   "outputs": [],
   "source": [
    "def genSeq(x, y):\n",
    "    pass\n",
    "\n",
    "def genThen(x):\n",
    "    loadItem(x)\n",
    "    asm.append('if')\n",
    "    return x\n",
    "\n",
    "def genIfThen(x, y):\n",
    "    asm.append('end')\n",
    "\n",
    "def genElse(x, y):\n",
    "    asm.append('else')\n",
    "\n",
    "def genIfElse(x, y, z):\n",
    "    asm.append('end')\n",
    "\n",
    "def genWhile():\n",
    "    asm.append('loop')\n",
    "\n",
    "def genDo(x):\n",
    "    loadItem(x)\n",
    "    asm.append('if')\n",
    "    return x\n",
    "\n",
    "def genWhileDo(t, x, y):\n",
    "    asm.append('br 1')\n",
    "    asm.append('end')\n",
    "    asm.append('end')"
   ]
  }
 ],
 "metadata": {
  "kernelspec": {
   "display_name": "Python 3",
   "language": "python",
   "name": "python3"
  },
  "language_info": {
   "codemirror_mode": {
    "name": "ipython",
    "version": 3
   },
   "file_extension": ".py",
   "mimetype": "text/x-python",
   "name": "python",
   "nbconvert_exporter": "python",
   "pygments_lexer": "ipython3",
   "version": "3.8.3"
  },
  "toc": {
   "base_numbering": 1,
   "nav_menu": {},
   "number_sections": false,
   "sideBar": false,
   "skip_h1_title": true,
   "title_cell": "Table of Contents",
   "title_sidebar": "Contents",
   "toc_cell": false,
   "toc_position": {},
   "toc_section_display": true,
   "toc_window_display": false
  }
 },
 "nbformat": 4,
 "nbformat_minor": 2
}
