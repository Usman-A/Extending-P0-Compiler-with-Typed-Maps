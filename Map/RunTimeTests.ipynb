{
 "cells": [
  {
   "cell_type": "code",
   "execution_count": null,
   "metadata": {},
   "outputs": [],
   "source": [
    "import nbimporter; nbimporter.options[\"only_defs\"] = False\n",
    "from P0 import compileString\n",
    "from ST import printSymTab\n",
    "import time\n",
    "\n",
    "def runpywasm(wasmfile):\n",
    "    import pywasm\n",
    "    def write(s, i): print(i)\n",
    "    def writeln(s): print('\\n')\n",
    "    def read(s): return int(input())\n",
    "    def time_(s): \n",
    "        print(time.time() * 1000)\n",
    "        return time.time() * 1000\n",
    "    def key_err(s):\n",
    "        raise Exception(\"Key does not exist\")\n",
    "    vm = pywasm.load(wasmfile, {'P0lib': {'write': write, 'writeln': writeln, 'read': read, 'time': time_,'err': key_err}})\n",
    "    \n",
    "def runwasm(wasmfile):\n",
    "    from IPython.core.display import display, Javascript\n",
    "    display(Javascript(\"\"\"\n",
    "    const params = { \n",
    "        P0lib: { \n",
    "            write: i => this.append_stream({text: '' + i, name: 'stdout'}),\n",
    "            writeln: () => this.append_stream({text: '\\\\n', name: 'stdout'}),\n",
    "            read: () => window.prompt()\n",
    "        }\n",
    "    }\n",
    "\n",
    "    fetch('\"\"\" + wasmfile + \"\"\"') // asynchronously fetch file, return Response object\n",
    "      .then(response => response.arrayBuffer()) // read the response to completion and stores it in an ArrayBuffer\n",
    "      .then(code => WebAssembly.compile(code)) // compile (sharable) code.wasm\n",
    "      .then(module => WebAssembly.instantiate(module, params)) // create an instance with memory\n",
    "    // .then(instance => instance.exports.program()); // run the main program; not needed if start function specified\n",
    "    \"\"\"))\n",
    "    \n",
    "from wasmer import engine, Store, Module, Instance, ImportObject, Function\n",
    "from wasmer_compiler_cranelift import Compiler\n",
    "\n",
    "def runwasmer(wasmfile):\n",
    "    def write(i: int): print(i)\n",
    "    def writeln(): print('\\n')\n",
    "    def read() -> int: return int(input()) \n",
    "    store = Store(engine.JIT(Compiler))\n",
    "    module = Module(store, open(wasmfile, 'rb').read())\n",
    "    import_object = ImportObject()\n",
    "    import_object.register(\"P0lib\", {\"write\": Function(store, write),\n",
    "                                     \"writeln\": Function(store, writeln),\"read\": Function(store, read)})\n",
    "    instance = Instance(module, import_object)"
   ]
  },
  {
   "cell_type": "markdown",
   "metadata": {},
   "source": [
    "<b>Execution time for 10 entries in map</b>"
   ]
  },
  {
   "cell_type": "code",
   "execution_count": null,
   "metadata": {},
   "outputs": [],
   "source": [
    "compileString(\"\"\"\n",
    "program bitsets\n",
    "  var e: map <integer, integer>\n",
    "  var a, b: integer\n",
    "    a ← time()\n",
    "    e.init\n",
    "    b := 0\n",
    "    while b < 10 do\n",
    "      e.insert(b,3)\n",
    "      b := b + 1\n",
    "    a ← time()\n",
    "    write(e.get(4))\n",
    "    b ← time()\n",
    "    e.insert(1001,23)\n",
    "    b ← time()\n",
    "    write(e.len())\n",
    "\"\"\", 'test1.wat', target = 'wat')\n",
    "!wat2wasm test1.wat\n",
    "runpywasm(\"test1.wasm\")"
   ]
  },
  {
   "cell_type": "markdown",
   "metadata": {},
   "source": [
    "Lookup time = 1617757775317.0266 - 1617757775404.4658 = 87 <br>\n",
    "Insertion time = 1617757584101.363 - 1617757584440.0674 = 341"
   ]
  },
  {
   "cell_type": "markdown",
   "metadata": {},
   "source": [
    "<b>Execution time for 20 entries in map</b>"
   ]
  },
  {
   "cell_type": "code",
   "execution_count": null,
   "metadata": {},
   "outputs": [],
   "source": [
    "compileString(\"\"\"\n",
    "program bitsets\n",
    "  var e: map <integer, integer>\n",
    "  var a, b: integer\n",
    "    a ← time()\n",
    "    e.init\n",
    "    b := 0\n",
    "    while b < 20 do\n",
    "      e.insert(b,3)\n",
    "      b := b + 1\n",
    "    a ← time()\n",
    "    write(e.get(4))\n",
    "    b ← time()\n",
    "    e.insert(1001,23)\n",
    "    b ← time()\n",
    "    write(e.len())\n",
    "\"\"\", 'test2.wat', target = 'wat')\n",
    "!wat2wasm test2.wat\n",
    "runpywasm(\"test2.wasm\")"
   ]
  },
  {
   "cell_type": "markdown",
   "metadata": {},
   "source": [
    "Lookup time = 1617757038433.1326 - 1617757038477.5427 = 44  <br>\n",
    "Insertion time = 1617757038477.5427 - 1617757038655.2637 = 140"
   ]
  },
  {
   "cell_type": "markdown",
   "metadata": {},
   "source": [
    "<b>Execution time for 100 entries in map</b>"
   ]
  },
  {
   "cell_type": "code",
   "execution_count": null,
   "metadata": {},
   "outputs": [],
   "source": [
    "compileString(\"\"\"\n",
    "program bitsets\n",
    "  var e: map <integer, integer>\n",
    "  var a, b: integer\n",
    "    a ← time()\n",
    "    e.init\n",
    "    b := 0\n",
    "    while b < 100 do\n",
    "      e.insert(b,3)\n",
    "      b := b + 1\n",
    "    a ← time()\n",
    "    write(e.get(4))\n",
    "    b ← time()\n",
    "    e.insert(1001,23)\n",
    "    b ← time()\n",
    "    write(e.len())\n",
    "\"\"\", 'test3.wat', target = 'wat')\n",
    "!wat2wasm test3.wat\n",
    "runpywasm(\"test3.wasm\")"
   ]
  },
  {
   "cell_type": "markdown",
   "metadata": {},
   "source": [
    "Lookup time = 1617757089525.4712 - 1617757089538.5867 = 13  <br>\n",
    "Insertion time = 1617757089538.5867 - 1617757089610.3218 = 87"
   ]
  },
  {
   "cell_type": "markdown",
   "metadata": {},
   "source": [
    "<b>Execution time for 1000 entries in map</b>"
   ]
  },
  {
   "cell_type": "code",
   "execution_count": null,
   "metadata": {
    "scrolled": true
   },
   "outputs": [],
   "source": [
    "compileString(\"\"\"\n",
    "program bitsets\n",
    "  var e: map <integer, integer>\n",
    "  var a, b: integer\n",
    "    a ← time()\n",
    "    e.init\n",
    "    b := 0\n",
    "    while b < 1000 do\n",
    "      e.insert(b,3)\n",
    "      b := b + 1\n",
    "    a ← time()\n",
    "    write(e.get(4))\n",
    "    b ← time()\n",
    "    e.insert(1001,23)\n",
    "    b ← time()\n",
    "    write(e.len())\n",
    "\"\"\", 'test4.wat', target = 'wat')\n",
    "!wat2wasm test4.wat\n",
    "runpywasm(\"test4.wasm\")"
   ]
  },
  {
   "cell_type": "markdown",
   "metadata": {},
   "source": [
    "Lookup time = 1617757530145.7568 - 1617757530149.9011 = 4  <br>\n",
    "Insertion time = 1617757530149.9011 - 1617757530446.7769 = 296"
   ]
  },
  {
   "cell_type": "code",
   "execution_count": null,
   "metadata": {},
   "outputs": [],
   "source": [
    "#clean up files produces by tests\n",
    "!rm test*"
   ]
  }
 ],
 "metadata": {
  "kernelspec": {
   "display_name": "Python 3",
   "language": "python",
   "name": "python3"
  },
  "language_info": {
   "codemirror_mode": {
    "name": "ipython",
    "version": 3
   },
   "file_extension": ".py",
   "mimetype": "text/x-python",
   "name": "python",
   "nbconvert_exporter": "python",
   "pygments_lexer": "ipython3",
   "version": "3.8.3"
  }
 },
 "nbformat": 4,
 "nbformat_minor": 4
}
