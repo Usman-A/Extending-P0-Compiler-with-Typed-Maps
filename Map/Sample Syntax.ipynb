{
 "cells": [
  {
   "cell_type": "markdown",
   "metadata": {},
   "source": [
    "### Sample Syntax for P0 Map\n",
    "\n",
    "#### Usman Asad, Faisal Jaffer, Aleem Haq. Modified in April 2021\n",
    "\n",
    "This notebooks contains sample syntax and sample execution of maps in P0"
   ]
  },
  {
   "cell_type": "code",
   "execution_count": 1,
   "metadata": {},
   "outputs": [
    {
     "name": "stdout",
     "output_type": "stream",
     "text": [
      "Importing Jupyter notebook from P0.ipynb\n",
      "Importing Jupyter notebook from SC.ipynb\n",
      "Importing Jupyter notebook from ST.ipynb\n"
     ]
    }
   ],
   "source": [
    "import time \n",
    "import nbimporter; nbimporter.options[\"only_defs\"] = False\n",
    "from P0 import compileString\n",
    "from ST import printSymTab\n",
    "\n",
    "def runpywasm(wasmfile):\n",
    "    import pywasm\n",
    "    def write(s, i): print(i)\n",
    "    def writeln(s): print('\\n')\n",
    "    def read(s): return int(input())\n",
    "    def time_(s): \n",
    "        print(time.time() * 1000)\n",
    "        return time.time() * 1000\n",
    "    def key_err(s):\n",
    "        raise Exception(\"Key does not exist\")\n",
    "    vm = pywasm.load(wasmfile, {'P0lib': {'write': write, 'writeln': writeln, 'read': read, 'time': time_,'err': key_err}})\n",
    "    \n",
    "def runwasm(wasmfile):\n",
    "    from IPython.core.display import display, Javascript\n",
    "    display(Javascript(\"\"\"\n",
    "    const params = { \n",
    "        P0lib: { \n",
    "            write: i => this.append_stream({text: '' + i, name: 'stdout'}),\n",
    "            writeln: () => this.append_stream({text: '\\\\n', name: 'stdout'}),\n",
    "            read: () => window.prompt()\n",
    "        }\n",
    "    }\n",
    "\n",
    "    fetch('\"\"\" + wasmfile + \"\"\"') // asynchronously fetch file, return Response object\n",
    "      .then(response => response.arrayBuffer()) // read the response to completion and stores it in an ArrayBuffer\n",
    "      .then(code => WebAssembly.compile(code)) // compile (sharable) code.wasm\n",
    "      .then(module => WebAssembly.instantiate(module, params)) // create an instance with memory\n",
    "    // .then(instance => instance.exports.program()); // run the main program; not needed if start function specified\n",
    "    \"\"\"))\n",
    "    \n",
    "from wasmer import engine, Store, Module, Instance, ImportObject, Function\n",
    "from wasmer_compiler_cranelift import Compiler\n",
    "\n",
    "def runwasmer(wasmfile):\n",
    "    def write(i: int): print(i)\n",
    "    def writeln(): print('\\n')\n",
    "    def read() -> int: return int(input()) \n",
    "    store = Store(engine.JIT(Compiler))\n",
    "    module = Module(store, open(wasmfile, 'rb').read())\n",
    "    import_object = ImportObject()\n",
    "    import_object.register(\"P0lib\", {\"write\": Function(store, write),\n",
    "                                     \"writeln\": Function(store, writeln),\"read\": Function(store, read)})\n",
    "    instance = Instance(module, import_object)"
   ]
  },
  {
   "cell_type": "markdown",
   "metadata": {},
   "source": [
    "# Syntax\n",
    "\n",
    "### Map declaration \n",
    "`var example: map <type₁, type₂>` where type₁ & type₂ can be any 32 bit word, and example can be any variable name that fits within the P0 compiler.\n",
    "\n",
    "\n",
    "\n",
    "#### The map `example` defined above will be used as an example for the following definitions\n",
    "### Use of Functioons\n",
    "The way to use the Map's functions is to add a `.` after the variable name, followed by a command. e.g. `example.init`\n",
    "\n",
    "\n",
    "### Initialization    \n",
    "`example.init` initializes the map. This needs to be done once after declaration in order for you to use the map that you defined\n",
    "\n",
    "### Insertion \n",
    "`example.insert(key,value)` is used to insert a value into the map. The key and value have to be of types; `type₁`, and `type₂` respectively. If not an exception is thrown.\n",
    "\n",
    "### Get\n",
    "`example.get(key)` is used to get the value of the key given. If the key does not exist an error is thrown\n",
    "### Length\n",
    "`example.len()` is used to return the number of entries in the map. "
   ]
  },
  {
   "cell_type": "markdown",
   "metadata": {},
   "source": [
    "<b>Map example with key and value as integer type</b>"
   ]
  },
  {
   "cell_type": "code",
   "execution_count": 2,
   "metadata": {},
   "outputs": [
    {
     "name": "stdout",
     "output_type": "stream",
     "text": [
      "Importing Jupyter notebook from CGwat.ipynb\n",
      "Importing Jupyter notebook from Map_Proto.ipynb\n"
     ]
    }
   ],
   "source": [
    "compileString(\"\"\"\n",
    "program bitsets\n",
    "  var c: integer\n",
    "  var e: map <integer, integer>\n",
    "    c := 4\n",
    "    e.init\n",
    "    e.insert(1,10)\n",
    "    e.insert(2,9)\n",
    "    e.insert(2, 4)\n",
    "    e.insert(3, 4)\n",
    "    e.insert(4, 4)\n",
    "    e.insert(5, 4)\n",
    "    e.insert(6, 4)\n",
    "    e.insert(7, 4)\n",
    "    e.insert(8, 4)\n",
    "    e.insert(9, 4)\n",
    "    e.insert(10, 4)\n",
    "    e.insert(13, 4)\n",
    "    e.insert(14, 4)\n",
    "    e.insert(15, 4)\n",
    "    e.insert(16, 4)\n",
    "    e.insert(17, 4)\n",
    "    e.insert(18, 4)\n",
    "    e.insert(19, 4)\n",
    "    e.insert(20, 4)\n",
    "    write(e.get(2))\n",
    "    write(e.get(3))\n",
    "    write(e.get(20))\n",
    "\"\"\", 'primes.wat', target = 'wat')\n",
    "!wat2wasm primes.wat"
   ]
  },
  {
   "cell_type": "code",
   "execution_count": 3,
   "metadata": {},
   "outputs": [
    {
     "name": "stdout",
     "output_type": "stream",
     "text": [
      "4\n",
      "4\n",
      "4\n"
     ]
    }
   ],
   "source": [
    "runpywasm(\"primes.wasm\")"
   ]
  },
  {
   "cell_type": "markdown",
   "metadata": {},
   "source": [
    "<b>Map example with key as integer type and value as boolean</b>"
   ]
  },
  {
   "cell_type": "code",
   "execution_count": 4,
   "metadata": {},
   "outputs": [],
   "source": [
    "compileString(\"\"\"\n",
    "program bitsets\n",
    "  var a, b: set [1 .. 5]\n",
    "  var z: [1 .. 5] → integer\n",
    "  var y: boolean\n",
    "  var c: integer\n",
    "  var e: map <integer, boolean>\n",
    "  var d: boolean\n",
    "    e.init\n",
    "    c := 2\n",
    "    e.insert(c,true)\n",
    "    e.insert(1, false)\n",
    "    write(e.get(c))\n",
    "    write(e.get(1))\n",
    "\"\"\", 'primes.wat', target = 'wat')\n",
    "!wat2wasm primes.wat"
   ]
  },
  {
   "cell_type": "code",
   "execution_count": 5,
   "metadata": {
    "scrolled": true
   },
   "outputs": [
    {
     "name": "stdout",
     "output_type": "stream",
     "text": [
      "1\n",
      "0\n"
     ]
    }
   ],
   "source": [
    "runpywasm(\"primes.wasm\")"
   ]
  },
  {
   "cell_type": "markdown",
   "metadata": {},
   "source": [
    "<b>Map example with for key in map</b>"
   ]
  },
  {
   "cell_type": "code",
   "execution_count": 6,
   "metadata": {},
   "outputs": [],
   "source": [
    "compileString(\"\"\"\n",
    "program bitsets\n",
    "  var a, b: set [1 .. 5]\n",
    "  var z: [1 .. 5] → integer\n",
    "  var y: boolean\n",
    "  var c: integer\n",
    "  var e: map <integer, boolean>\n",
    "  var d: boolean\n",
    "    e.init\n",
    "    c := 2\n",
    "    e.insert(c,true)\n",
    "    e.insert(1, false)\n",
    "    if 3 in e then write(1)\n",
    "    else write(0)\n",
    "    if c in e then write(1)\n",
    "    else write(0)\n",
    "    if 1 in e then write(1)\n",
    "    else write(0)\n",
    "\"\"\", 'primes.wat', target = 'wat')\n",
    "!wat2wasm primes.wat"
   ]
  },
  {
   "cell_type": "code",
   "execution_count": 7,
   "metadata": {},
   "outputs": [
    {
     "name": "stdout",
     "output_type": "stream",
     "text": [
      "0\n",
      "1\n",
      "1\n"
     ]
    }
   ],
   "source": [
    "runpywasm(\"primes.wasm\")"
   ]
  },
  {
   "cell_type": "code",
   "execution_count": null,
   "metadata": {},
   "outputs": [],
   "source": []
  }
 ],
 "metadata": {
  "kernelspec": {
   "display_name": "Python 3",
   "language": "python",
   "name": "python3"
  },
  "language_info": {
   "codemirror_mode": {
    "name": "ipython",
    "version": 3
   },
   "file_extension": ".py",
   "mimetype": "text/x-python",
   "name": "python",
   "nbconvert_exporter": "python",
   "pygments_lexer": "ipython3",
   "version": "3.8.3"
  }
 },
 "nbformat": 4,
 "nbformat_minor": 4
}
