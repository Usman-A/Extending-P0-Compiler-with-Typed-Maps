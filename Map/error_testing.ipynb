{
 "cells": [
  {
   "cell_type": "markdown",
   "metadata": {},
   "source": [
    "### Expected Errors Testing\n",
    "\n",
    "#### Usman Asad, Faisal Jaffer, Aleem Haq. Modified in April 2021\n",
    "\n",
    "This notebook contains a series of procedures to test the expected errors associated with the map."
   ]
  },
  {
   "cell_type": "code",
   "execution_count": null,
   "metadata": {},
   "outputs": [],
   "source": [
    "import nbimporter; nbimporter.options[\"only_defs\"] = False\n",
    "from P0 import compileString\n",
    "from ST import printSymTab\n",
    "import time"
   ]
  },
  {
   "cell_type": "code",
   "execution_count": null,
   "metadata": {},
   "outputs": [],
   "source": [
    "def runpywasm(wasmfile):\n",
    "    import pywasm\n",
    "    def write(s, i): print(i)\n",
    "    def writeln(s): print('\\n')\n",
    "    def read(s): return int(input())\n",
    "    def time_(s): \n",
    "        print(time.time() * 1000)\n",
    "        return time.time() * 1000\n",
    "    def key_err(s):\n",
    "        raise Exception(\"Key does not exist\")\n",
    "    vm = pywasm.load(wasmfile, {'P0lib': {'write': write, 'writeln': writeln, 'read': read, 'time': time_,'err': key_err}})\n",
    "    \n",
    "def runwasm(wasmfile):\n",
    "    from IPython.core.display import display, Javascript\n",
    "    display(Javascript(\"\"\"\n",
    "    const params = { \n",
    "        P0lib: { \n",
    "            write: i => this.append_stream({text: '' + i, name: 'stdout'}),\n",
    "            writeln: () => this.append_stream({text: '\\\\n', name: 'stdout'}),\n",
    "            read: () => window.prompt()\n",
    "        }\n",
    "    }\n",
    "\n",
    "    fetch('\"\"\" + wasmfile + \"\"\"') // asynchronously fetch file, return Response object\n",
    "      .then(response => response.arrayBuffer()) // read the response to completion and stores it in an ArrayBuffer\n",
    "      .then(code => WebAssembly.compile(code)) // compile (sharable) code.wasm\n",
    "      .then(module => WebAssembly.instantiate(module, params)) // create an instance with memory\n",
    "    // .then(instance => instance.exports.program()); // run the main program; not needed if start function specified\n",
    "    \"\"\"))\n",
    "    \n",
    "from wasmer import engine, Store, Module, Instance, ImportObject, Function\n",
    "from wasmer_compiler_cranelift import Compiler\n",
    "\n",
    "def runwasmer(wasmfile):\n",
    "    def write(i: int): print(i)\n",
    "    def writeln(): print('\\n')\n",
    "    def read() -> int: return int(input()) \n",
    "    store = Store(engine.JIT(Compiler))\n",
    "    module = Module(store, open(wasmfile, 'rb').read())\n",
    "    import_object = ImportObject()\n",
    "    import_object.register(\"P0lib\", {\"write\": Function(store, write),\n",
    "                                     \"writeln\": Function(store, writeln),\"read\": Function(store, read)})\n",
    "    instance = Instance(module, import_object)"
   ]
  },
  {
   "cell_type": "code",
   "execution_count": null,
   "metadata": {},
   "outputs": [],
   "source": [
    "# Testing to see that an error is thrown when insertion is attempted but the map is not yet initialized"
   ]
  },
  {
   "cell_type": "code",
   "execution_count": null,
   "metadata": {
    "scrolled": true
   },
   "outputs": [],
   "source": [
    "compileString(\"\"\"\n",
    "program bitsets\n",
    "  var e: map <integer, integer>\n",
    "  var a, b: integer\n",
    "    e.insert(2,4)\n",
    "    write(e.get(2))\n",
    "\"\"\", 'test.wat', target = 'wat')\n",
    "!wat2wasm test.wat\n",
    "runpywasm(\"test.wasm\")"
   ]
  },
  {
   "cell_type": "code",
   "execution_count": null,
   "metadata": {},
   "outputs": [],
   "source": [
    "# Testing to see if error is thrown when inserting wrong type into the map"
   ]
  },
  {
   "cell_type": "code",
   "execution_count": null,
   "metadata": {},
   "outputs": [],
   "source": [
    "compileString(\"\"\"\n",
    "program bitsets\n",
    "  var e: map <integer, integer>\n",
    "  var a, b: integer\n",
    "    e.init\n",
    "    write(e.len())\n",
    "    e.insert(1, true)\n",
    "\"\"\", 'test.wat', target = 'wat')\n",
    "!wat2wasm test.wat\n",
    "runpywasm(\"test.wasm\")"
   ]
  },
  {
   "cell_type": "code",
   "execution_count": null,
   "metadata": {},
   "outputs": [],
   "source": [
    "# Getting a value that does not exist"
   ]
  },
  {
   "cell_type": "code",
   "execution_count": null,
   "metadata": {},
   "outputs": [],
   "source": [
    "compileString(\"\"\"\n",
    "program bitsets\n",
    "  var e: map <integer, integer>\n",
    "  var a, b: integer\n",
    "    e.init\n",
    "    a ← time()\n",
    "    write(e.len())\n",
    "    write(e.get(13233))\n",
    "\"\"\", 'test.wat', target = 'wat')\n",
    "!wat2wasm test.wat\n",
    "runpywasm(\"test.wasm\")"
   ]
  },
  {
   "cell_type": "code",
   "execution_count": null,
   "metadata": {},
   "outputs": [],
   "source": [
    "# Testing to see wrong key type (Key expected to be Int, Bool, Set)"
   ]
  },
  {
   "cell_type": "code",
   "execution_count": null,
   "metadata": {},
   "outputs": [],
   "source": [
    "compileString(\"\"\"\n",
    "program bitsets\n",
    "  var e: map <[0..5] → integer, integer>\n",
    "  var a, b: integer\n",
    "    e.init\n",
    "    a ← time()\n",
    "    write(e.len())\n",
    "\"\"\", 'test.wat', target = 'wat')\n",
    "!wat2wasm test.wat\n",
    "runpywasm(\"test.wasm\")"
   ]
  },
  {
   "cell_type": "code",
   "execution_count": null,
   "metadata": {},
   "outputs": [],
   "source": [
    "# Testing to see value accepts all types"
   ]
  },
  {
   "cell_type": "code",
   "execution_count": null,
   "metadata": {},
   "outputs": [],
   "source": [
    "compileString(\"\"\"\n",
    "program bitsets\n",
    "  var e: map <integer, [0..5] → integer>\n",
    "  var a, b: integer\n",
    "    e.init\n",
    "    a ← time()\n",
    "    write(e.len())\n",
    "\"\"\", 'test.wat', target = 'wat')\n",
    "!wat2wasm test.wat\n",
    "runpywasm(\"test.wasm\")"
   ]
  },
  {
   "cell_type": "code",
   "execution_count": null,
   "metadata": {},
   "outputs": [],
   "source": [
    "## Testing if bad type error is thrown for type mismatch for key in map"
   ]
  },
  {
   "cell_type": "code",
   "execution_count": null,
   "metadata": {},
   "outputs": [],
   "source": [
    "compileString(\"\"\"\n",
    "program bitsets\n",
    "  var e: map <integer, integer>\n",
    "  var a, b: integer\n",
    "    e.init\n",
    "    if true in e then write(1)\n",
    "    else write(0)\n",
    "\"\"\", 'test.wat', target = 'wat')\n",
    "!wat2wasm test.wat\n",
    "runpywasm(\"test.wasm\")"
   ]
  },
  {
   "cell_type": "code",
   "execution_count": null,
   "metadata": {},
   "outputs": [],
   "source": [
    "## Testing basic syntax  "
   ]
  },
  {
   "cell_type": "code",
   "execution_count": null,
   "metadata": {},
   "outputs": [],
   "source": [
    "compileString(\"\"\"\n",
    "program bitsets\n",
    "  var e: map <integer, integer>\n",
    "  var a, b: integer\n",
    "    e.init\n",
    "    write(e.len()\n",
    "\"\"\", 'test.wat', target = 'wat')\n",
    "!wat2wasm test.wat\n",
    "runpywasm(\"test.wasm\")"
   ]
  },
  {
   "cell_type": "code",
   "execution_count": null,
   "metadata": {},
   "outputs": [],
   "source": [
    "compileString(\"\"\"\n",
    "program bitsets\n",
    "  var e: map <integer, integer>\n",
    "  var a, b: integer\n",
    "    e.init()\n",
    "    write(e.len())\n",
    "\"\"\", 'test.wat', target = 'wat')\n",
    "!wat2wasm test.wat\n",
    "runpywasm(\"test.wasm\")"
   ]
  },
  {
   "cell_type": "code",
   "execution_count": null,
   "metadata": {
    "scrolled": true
   },
   "outputs": [],
   "source": [
    "compileString(\"\"\"\n",
    "program bitsets\n",
    "  var e: map <integer, integer>\n",
    "  var a, b: integer\n",
    "    e.init()\n",
    "    write(e.len)\n",
    "\"\"\", 'test.wat', target = 'wat')\n",
    "!wat2wasm test.wat\n",
    "runpywasm(\"test.wasm\")"
   ]
  },
  {
   "cell_type": "code",
   "execution_count": null,
   "metadata": {},
   "outputs": [],
   "source": [
    "# Clean up\n",
    "!rm test*"
   ]
  }
 ],
 "metadata": {
  "kernelspec": {
   "display_name": "Python 3",
   "language": "python",
   "name": "python3"
  },
  "language_info": {
   "codemirror_mode": {
    "name": "ipython",
    "version": 3
   },
   "file_extension": ".py",
   "mimetype": "text/x-python",
   "name": "python",
   "nbconvert_exporter": "python",
   "pygments_lexer": "ipython3",
   "version": "3.8.3"
  }
 },
 "nbformat": 4,
 "nbformat_minor": 4
}
